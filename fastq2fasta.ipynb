{
 "cells": [
  {
   "cell_type": "code",
   "execution_count": 1,
   "id": "795d0353",
   "metadata": {},
   "outputs": [],
   "source": [
    "import re\n",
    "def fastq2fast(fq_file):\n",
    "    '''\n",
    "    FastQ to FastA converter By @biomedical_informatics Edris Sharif Rahmani March 26, 2023\n",
    "    '''\n",
    "    idsl = []\n",
    "    idsl2 = []\n",
    "    at_sym_list = []\n",
    "    at_list = []\n",
    "    plus_sym_list = []\n",
    "    plus_list = []\n",
    "    with open(\"file.fastq\") as fq, open(\"file.fasta\", \"w\") as fa:\n",
    "        for row,line in enumerate(fq, start = 1):\n",
    "            ids = str(re.findall(\"^@.+\", line))\n",
    "            idsl.append(ids)\n",
    "            at_sym = re.findall(\"^@\", line)\n",
    "            at_sym_list.append(at_sym)\n",
    "            plus_sym = re.findall(\"^\\+\", line)\n",
    "            plus_sym_list.append(plus_sym)\n",
    "        for i in range(0, row,4):\n",
    "            if '@' in idsl[i]:\n",
    "                idsl2.append(str(idsl[i]))   \n",
    "        for i in range(0, row,4):\n",
    "            if '@' in at_sym_list[i]:\n",
    "                at_list.append(at_sym_list[i])        \n",
    "        for i in range(2, row,4):\n",
    "              if '+' in plus_sym_list[i]:\n",
    "                plus_list.append(plus_sym_list[i])            \n",
    "        if row/len(at_list) != 4 or row/len(plus_list) != 4:\n",
    "            raise Exception(\"Incorrect FastQ file (length or @ symbol)\")       \n",
    "        fq.seek(0)\n",
    "        fq_len = len(fq.readlines())\n",
    "        fq.seek(0)\n",
    "        for i in idsl2:\n",
    "            i = i.strip(\"[]''\")\n",
    "            i = i.replace(\"@\", \"\")\n",
    "            for row,line in enumerate(fq, start = 1):\n",
    "                if row in range(-2, fq_len, 4):\n",
    "                    line = line.strip()\n",
    "                    fa.write(f'>{i}\\n')\n",
    "                    print(line, file = fa)\n",
    "                    print(f'>{i}')\n",
    "                    print(line)"
   ]
  },
  {
   "cell_type": "code",
   "execution_count": 2,
   "id": "a40694c7",
   "metadata": {},
   "outputs": [
    {
     "name": "stdout",
     "output_type": "stream",
     "text": [
      ">SRR074992.2\n",
      "NAAAAACANAACTGGGGAAAGGTCACCCTATTCAATAAAT\n",
      ">SRR074992.2\n",
      "NAAAAACANAACTGGGGAAAGGTCACCCTATTCAATAAAT\n",
      ">SRR074992.2\n",
      "NAAAAACANAACTGGGGAAAGGTCACCCTATTCAATAAAT\n",
      ">SRR074992.2\n",
      "NAAAAACANAACTGGGGAAAGGTCACCCTATTCAATAAAT\n",
      ">SRR074992.2\n",
      "ACTCTCCTACCCCCTATTTTATTTTTTTTTTTTTTTTTTT\n",
      ">SRR074992.2\n",
      "ACTCTCCTACCCCCTATTTTATTTTTTTTTTTTTTTTTTT\n",
      ">SRR074992.2\n",
      "AGATTCTGATTTATAATGTGAACTTTTTTCTTTTTTTTTT\n",
      ">SRR074992.2\n",
      "GGAAGGTAGAAGGAAGGAAGGAAGGAAGGAAGGAAGGCAG\n"
     ]
    }
   ],
   "source": [
    "fastq2fast(\"file.fastq\")"
   ]
  },
  {
   "cell_type": "code",
   "execution_count": null,
   "id": "5ecdc785",
   "metadata": {},
   "outputs": [],
   "source": []
  }
 ],
 "metadata": {
  "kernelspec": {
   "display_name": "Python 3 (ipykernel)",
   "language": "python",
   "name": "python3"
  },
  "language_info": {
   "codemirror_mode": {
    "name": "ipython",
    "version": 3
   },
   "file_extension": ".py",
   "mimetype": "text/x-python",
   "name": "python",
   "nbconvert_exporter": "python",
   "pygments_lexer": "ipython3",
   "version": "3.10.6"
  }
 },
 "nbformat": 4,
 "nbformat_minor": 5
}
